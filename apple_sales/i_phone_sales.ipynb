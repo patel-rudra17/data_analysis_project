{
 "cells": [
  {
   "cell_type": "markdown",
   "id": "879545f2",
   "metadata": {},
   "source": [
    "I phone sales Analysis"
   ]
  },
  {
   "cell_type": "code",
   "execution_count": null,
   "id": "6179c745",
   "metadata": {},
   "outputs": [],
   "source": []
  }
 ],
 "metadata": {
  "language_info": {
   "name": "python"
  }
 },
 "nbformat": 4,
 "nbformat_minor": 5
}
